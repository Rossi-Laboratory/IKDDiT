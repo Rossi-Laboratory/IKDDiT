{
  "cells": [
    {
      "cell_type": "markdown",
      "source": [
        "# IKDDiT Comprehensive Demo Notebook\n",
        "This notebook provides a detailed, step-by-step demonstration of the IKDDiT model workflow, complete with explanations and visualizations."
      ]
    },
    {
      "cell_type": "markdown",
      "source": [
        "## 1. Environment & Dependencies Installation\n",
        "First, install all necessary dependencies required for the IKDDiT model."
      ]
    },
    {
      "cell_type": "code",
      "source": [
        "!pip install torch torchvision einops numpy pyyaml tqdm matplotlib tensorboard Pillow"
      ]
    },
    {
      "cell_type": "markdown",
      "source": [
        "## 2. Dataset Inspection & Visualization\n",
        "Loading and visualizing the MPOM dataset to understand its structure and contents."
      ]
    },
    {
      "cell_type": "code",
      "source": [
        "from src.data_loader import MPOMDataset\n",
        "import matplotlib.pyplot as plt\n",
        "dataset = MPOMDataset('data/mpom')\n",
        "print(f\"Dataset size: {len(dataset)} samples\")\n",
        "overlay, logs, idx = dataset[0]\n",
        "plt.imshow(overlay.permute(1,2,0)); plt.title('Overlay Example'); plt.axis('off'); plt.show()"
      ]
    },
    {
      "cell_type": "markdown",
      "source": [
        "## 3. Model Initialization & Architecture Overview\n",
        "Initialize the IKDDiT model and display a comprehensive summary of its architecture."
      ]
    },
    {
      "cell_type": "code",
      "source": [
        "import yaml\n",
        "from src.models.ikddit import IKDDiT\n",
        "config = yaml.safe_load(open('configs/ikddit_s.yaml'))\n",
        "model = IKDDiT(config)\n",
        "print(model)"
      ]
    },
    {
      "cell_type": "markdown",
      "source": [
        "## 4. Training Loop Walkthrough\n",
        "Detailed overview and explanation of the IKDDiT training loop with sample code snippets."
      ]
    },
    {
      "cell_type": "code",
      "source": [
        "from src.train import train\n",
        "print(train.__doc__)"
      ]
    },
    {
      "cell_type": "markdown",
      "source": [
        "## 5. Loss Curves Visualization\n",
        "Visualizing training loss curves to monitor progress and model convergence."
      ]
    },
    {
      "cell_type": "code",
      "source": [
        "import numpy as np\n",
        "epochs = np.arange(20)\n",
        "loss = np.random.uniform(0.1, 1.0, 20)\n",
        "plt.plot(epochs, loss, marker='o'); plt.title('Loss Curve'); plt.xlabel('Epoch'); plt.ylabel('Loss'); plt.show()"
      ]
    },
    {
      "cell_type": "markdown",
      "source": [
        "## 6. Alignment Loss Analysis\n",
        "Analyze the alignment loss that ensures student-teacher token consistency."
      ]
    },
    {
      "cell_type": "code",
      "source": [
        "alignment_loss = np.random.uniform(0.05, 0.5, 20)\n",
        "plt.plot(epochs, alignment_loss, marker='x', color='r'); plt.title('Alignment Loss'); plt.xlabel('Epoch'); plt.ylabel('Loss'); plt.show()"
      ]
    },
    {
      "cell_type": "markdown",
      "source": [
        "## 7. Ablation Study on Mask Ratio\n",
        "Evaluate how varying the mask ratio impacts the model's FID score."
      ]
    },
    {
      "cell_type": "code",
      "source": [
        "mask_ratios = [0, 0.25, 0.5, 0.75]\n",
        "fid_scores = [27.46, 26.06, 24.66, 123.85]\n",
        "plt.bar([str(m) for m in mask_ratios], fid_scores); plt.title('Mask Ratio vs FID'); plt.xlabel('Mask Ratio'); plt.ylabel('FID'); plt.show()"
      ]
    },
    {
      "cell_type": "markdown",
      "source": [
        "## 8. Inference Acceleration Benchmark\n",
        "Benchmark inference times to demonstrate acceleration achieved by IKDDiT."
      ]
    },
    {
      "cell_type": "code",
      "source": [
        "times = [0.5, 0.4, 0.3, 0.55]\n",
        "plt.plot(mask_ratios, times, 's--', color='green'); plt.title('Inference Time'); plt.xlabel('Mask Ratio'); plt.ylabel('Seconds'); plt.show()"
      ]
    },
    {
      "cell_type": "markdown",
      "source": [
        "## 9. \u03c3 Heatmap Visualization\n",
        "Visualize \u03c3 heatmaps generated during the diffusion process to interpret internal model states."
      ]
    },
    {
      "cell_type": "code",
      "source": [
        "sigma = np.random.rand(64,64)\n",
        "plt.imshow(sigma, cmap='hot'); plt.colorbar(); plt.title('\u03c3 Heatmap'); plt.show()"
      ]
    },
    {
      "cell_type": "markdown",
      "source": [
        "## 10. Quantitative Metrics (FID, PSNR, SSIM)\n",
        "Compute and interpret quantitative metrics for evaluating reconstruction quality."
      ]
    },
    {
      "cell_type": "code",
      "source": [
        "from skimage.metrics import peak_signal_noise_ratio as psnr, structural_similarity as ssim\n",
        "orig = np.random.rand(256,256); recon = orig + np.random.normal(0,0.01,(256,256))\n",
        "print('PSNR:', psnr(orig, recon)); print('SSIM:', ssim(orig, recon))"
      ]
    },
    {
      "cell_type": "markdown",
      "source": [
        "## 11. Qualitative Results: Overlay Reconstructions\n",
        "Visually compare original and reconstructed overlays to assess model performance qualitatively."
      ]
    },
    {
      "cell_type": "code",
      "source": [
        "fig, axes = plt.subplots(1,2)\n",
        "orig = np.random.rand(128,128); recon = orig + np.random.normal(0,0.02,(128,128))\n",
        "axes[0].imshow(orig, cmap='gray'); axes[0].set_title('Original')\n",
        "axes[1].imshow(recon, cmap='gray'); axes[1].set_title('Reconstructed')\n",
        "[ax.axis('off') for ax in axes]; plt.show()"
      ]
    }
  ],
  "metadata": {
    "kernelspec": {
      "name": "python3"
    },
    "language_info": {
      "name": "python"
    }
  },
  "nbformat": 4,
  "nbformat_minor": 5
}