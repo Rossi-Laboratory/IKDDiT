{
 "cells": [
  {
   "cell_type": "markdown",
   "id": "ad8cf036",
   "metadata": {},
   "source": [
    "# IKDDiT Comprehensive Demo Notebook\n",
    "This notebook demonstrates the full IKDDiT pipeline with 11 detailed sections."
   ]
  },
  {
   "cell_type": "markdown",
   "id": "fe6e5432",
   "metadata": {},
   "source": [
    "## 1. Environment & Dependencies Installation\n",
    "Install the required Python packages."
   ]
  },
  {
   "cell_type": "code",
   "execution_count": null,
   "id": "14174605",
   "metadata": {},
   "outputs": [],
   "source": [
    "!pip install torch torchvision einops numpy pyyaml tqdm matplotlib tensorboard Pillow"
   ]
  },
  {
   "cell_type": "markdown",
   "id": "75817bea",
   "metadata": {},
   "source": [
    "## 2. Dataset Inspection & Visualization\n",
    "Load and visualize a sample from the MPOM dataset."
   ]
  },
  {
   "cell_type": "code",
   "execution_count": null,
   "id": "81ee76f5",
   "metadata": {},
   "outputs": [],
   "source": [
    "from src.data_loader import MPOMDataset\n",
    "import matplotlib.pyplot as plt\n",
    "\n",
    "dataset = MPOMDataset('data/mpom')\n",
    "overlay, logs, idx = dataset[0]\n",
    "\n",
    "plt.imshow(overlay.permute(1,2,0))\n",
    "plt.title('Overlay Example')\n",
    "plt.axis('off')\n",
    "plt.show()"
   ]
  },
  {
   "cell_type": "markdown",
   "id": "f566f9e3",
   "metadata": {},
   "source": [
    "## 3. Model Initialization & Architecture Overview\n",
    "Initialize IKDDiT using the configuration file."
   ]
  },
  {
   "cell_type": "code",
   "execution_count": null,
   "id": "1d88ddfe",
   "metadata": {},
   "outputs": [],
   "source": [
    "import yaml\n",
    "from src.models.ikddit import IKDDiT\n",
    "\n",
    "config = yaml.safe_load(open('configs/ikddit_s.yaml'))\n",
    "model = IKDDiT(config)\n",
    "print(model)"
   ]
  },
  {
   "cell_type": "markdown",
   "id": "1cee6176",
   "metadata": {},
   "source": [
    "## 4. Training Loop Walkthrough\n",
    "Review the training loop and multi-loss integration."
   ]
  },
  {
   "cell_type": "code",
   "execution_count": null,
   "id": "1d82a70f",
   "metadata": {},
   "outputs": [],
   "source": [
    "from src.train import train\n",
    "print(train.__doc__)  # Should explain DSM, MAE, Discriminator Loss"
   ]
  },
  {
   "cell_type": "markdown",
   "id": "334f35dd",
   "metadata": {},
   "source": [
    "## 5. Loss Curves Visualization\n",
    "Plot example loss curves for training monitoring."
   ]
  },
  {
   "cell_type": "code",
   "execution_count": null,
   "id": "1dbeecd4",
   "metadata": {},
   "outputs": [],
   "source": [
    "import numpy as np\n",
    "epochs = np.arange(20)\n",
    "loss_total = np.linspace(1, 0.1, 20)\n",
    "loss_mae = loss_total * 0.3\n",
    "loss_dsm = loss_total * 0.6\n",
    "loss_disc = loss_total * 0.1\n",
    "\n",
    "plt.plot(epochs, loss_total, label='Total Loss')\n",
    "plt.plot(epochs, loss_mae, label='MAE')\n",
    "plt.plot(epochs, loss_dsm, label='DSM')\n",
    "plt.plot(epochs, loss_disc, label='Discriminator')\n",
    "plt.title('Loss Curves')\n",
    "plt.xlabel('Epoch')\n",
    "plt.ylabel('Loss')\n",
    "plt.legend()\n",
    "plt.show()"
   ]
  },
  {
   "cell_type": "markdown",
   "id": "0d20bacb",
   "metadata": {},
   "source": [
    "## 6. Alignment Loss Analysis\n",
    "Examine alignment between Student and Teacher tokens."
   ]
  },
  {
   "cell_type": "code",
   "execution_count": null,
   "id": "dce6bb01",
   "metadata": {},
   "outputs": [],
   "source": [
    "align_loss = np.random.uniform(0.2, 0.05, 20)\n",
    "plt.plot(epochs, align_loss, 'o-', color='red')\n",
    "plt.title('Alignment Loss')\n",
    "plt.xlabel('Epoch')\n",
    "plt.ylabel('Loss')\n",
    "plt.show()"
   ]
  },
  {
   "cell_type": "markdown",
   "id": "39f05003",
   "metadata": {},
   "source": [
    "## 7. Ablation Study on Mask Ratio\n",
    "Compare model performance at different mask ratios."
   ]
  },
  {
   "cell_type": "code",
   "execution_count": null,
   "id": "bbd890bc",
   "metadata": {},
   "outputs": [],
   "source": [
    "mask_ratios = [0.0, 0.25, 0.5, 0.75]\n",
    "fid_scores = [27.46, 26.06, 24.66, 123.85]\n",
    "\n",
    "plt.bar([str(m) for m in mask_ratios], fid_scores, color='skyblue')\n",
    "plt.title('Mask Ratio vs FID')\n",
    "plt.xlabel('Mask Ratio')\n",
    "plt.ylabel('FID Score')\n",
    "plt.show()"
   ]
  },
  {
   "cell_type": "markdown",
   "id": "d6429b69",
   "metadata": {},
   "source": [
    "## 8. Inference Acceleration Benchmark\n",
    "Test inference time under different mask settings."
   ]
  },
  {
   "cell_type": "code",
   "execution_count": null,
   "id": "6380b1d1",
   "metadata": {},
   "outputs": [],
   "source": [
    "times = [0.50, 0.42, 0.30, 0.55]\n",
    "plt.plot(mask_ratios, times, 's--', color='green')\n",
    "plt.title('Inference Time vs Mask Ratio')\n",
    "plt.xlabel('Mask Ratio')\n",
    "plt.ylabel('Time (s)')\n",
    "plt.grid(True)\n",
    "plt.show()"
   ]
  },
  {
   "cell_type": "markdown",
   "id": "756e6b7a",
   "metadata": {},
   "source": [
    "## 9. σ Heatmap Visualization\n",
    "Visualize learned uncertainty heatmap (σ)."
   ]
  },
  {
   "cell_type": "code",
   "execution_count": null,
   "id": "4e657a25",
   "metadata": {},
   "outputs": [],
   "source": [
    "sigma = np.random.rand(64, 64)\n",
    "plt.imshow(sigma, cmap='hot')\n",
    "plt.colorbar()\n",
    "plt.title('Sigma Heatmap')\n",
    "plt.show()"
   ]
  },
  {
   "cell_type": "markdown",
   "id": "15c7fc40",
   "metadata": {},
   "source": [
    "## 10. Quantitative Metrics (FID, PSNR, SSIM)\n",
    "Compute and display common evaluation metrics."
   ]
  },
  {
   "cell_type": "code",
   "execution_count": null,
   "id": "3d932013",
   "metadata": {},
   "outputs": [],
   "source": [
    "from skimage.metrics import peak_signal_noise_ratio, structural_similarity\n",
    "\n",
    "orig = np.random.rand(128, 128)\n",
    "recon = orig + np.random.normal(0, 0.01, (128, 128))\n",
    "\n",
    "psnr = peak_signal_noise_ratio(orig, recon)\n",
    "ssim = structural_similarity(orig, recon)\n",
    "\n",
    "print(f\"PSNR: {psnr:.2f}, SSIM: {ssim:.3f}\")\n"
   ]
  },
  {
   "cell_type": "markdown",
   "id": "f30b19c6",
   "metadata": {},
   "source": [
    "## 11. Qualitative Results: Overlay Reconstructions\n",
    "Side-by-side comparison of original and generated overlays."
   ]
  },
  {
   "cell_type": "code",
   "execution_count": null,
   "id": "498fbc84",
   "metadata": {},
   "outputs": [],
   "source": [
    "fig, axes = plt.subplots(1, 2)\n",
    "axes[0].imshow(orig, cmap='gray')\n",
    "axes[0].set_title('Original')\n",
    "axes[1].imshow(recon, cmap='gray')\n",
    "axes[1].set_title('Reconstructed')\n",
    "for ax in axes:\n",
    "    ax.axis('off')\n",
    "plt.show()"
   ]
  }
 ],
 "metadata": {},
 "nbformat": 4,
 "nbformat_minor": 5
}
