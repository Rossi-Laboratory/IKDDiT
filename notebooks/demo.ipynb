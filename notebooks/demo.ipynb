{
  "cells": [
    {
      "cell_type": "markdown",
      "metadata": {},
      "source": [
        "# IKDDiT Comprehensive Demo Notebook\n",
        "\n",
        "This notebook provides an in-depth demonstration of the IKDDiT model, covering:\n",
        "1. Environment & Dependencies\n",
        "2. Dataset Inspection\n",
        "3. Model Initialization\n",
        "4. Training Loop Walkthrough\n",
        "5. Loss Curves Visualization\n",
        "6. Alignment Loss Analysis\n",
        "7. Ablation Study on Mask Ratio\n",
        "8. Inference Acceleration Benchmark\n",
        "9. \u03c3 Heatmap Visualization\n",
        "10. Quantitative Metrics (FID, PSNR, SSIM)\n",
        "11. Qualitative Results (Overlay Reconstructions)\n"
      ]
    },
    {
      "cell_type": "markdown",
      "metadata": {},
      "source": [
        "## 1. Environment & Dependencies\n",
        "Install required packages and make sure versions match."
      ]
    },
    {
      "cell_type": "code",
      "metadata": {},
      "source": [
        "!pip install torch torchvision einops numpy pyyaml tqdm matplotlib tensorboard Pillow"
      ]
    },
    {
      "cell_type": "markdown",
      "metadata": {},
      "source": [
        "## 2. Dataset Inspection\n",
        "Load a few samples from the MPOM dataset to verify paths and data shapes."
      ]
    },
    {
      "cell_type": "code",
      "metadata": {},
      "source": [
        "import os\n",
        "from src.data_loader import MPOMDataset\n",
        "import matplotlib.pyplot as plt\n",
        "\n",
        "dataset = MPOMDataset('data/mpom')\n",
        "print(f\"Dataset size: {len(dataset)} samples\")\n",
        "overlay, logs, id_val = dataset[0]\n",
        "print(f\"Overlay shape: {overlay.shape}, Log features: {logs.shape}, ID: {id_val}\")\n",
        "plt.imshow(overlay.permute(1,2,0)); plt.title('Overlay Prev Example'); plt.axis('off')"
      ]
    },
    {
      "cell_type": "markdown",
      "metadata": {},
      "source": [
        "## 3. Model Initialization\n",
        "Instantiate IKDDiT with default config and move to GPU if available."
      ]
    },
    {
      "cell_type": "code",
      "metadata": {},
      "source": [
        "import yaml\n",
        "import torch\n",
        "from src.models.ikddit import IKDDiT\n",
        "\n",
        "config = yaml.safe_load(open('configs/ikddit_s.yaml'))\n",
        "device = torch.device('cuda' if torch.cuda.is_available() else 'cpu')\n",
        "model = IKDDiT(config).to(device)\n",
        "print(model)"
      ]
    },
    {
      "cell_type": "markdown",
      "metadata": {},
      "source": [
        "## 4. Training Loop Walkthrough\n",
        "Pseudocode and actual snippet from `train.py`."
      ]
    },
    {
      "cell_type": "markdown",
      "metadata": {},
      "source": [
        "```python\n",
        "for epoch in range(epochs):\n",
        "    for x, logs, ids in loader:\n",
        "        # Forward diffusion\n",
        "        z_t = diffusion.q_sample(x, t)\n",
        "        # Model forward\n",
        "        recon, d_loss = model(z_t, logs, ids, mask_ratio, t)\n",
        "        # Compute losses\n",
        "        l_dsm = MSE(recon, x)\n",
        "        l_mae = L1(recon, x)\n",
        "        l_info = InfoNCE(student_feat, teacher_feat)\n",
        "        loss = l_dsm + lambda1*l_mae + lambda2*d_loss\n",
        "        # Backprop\n",
        "        optimizer.zero_grad()\n",
        "        loss.backward()\n",
        "        optimizer.step()\n",
        "```"
      ]
    },
    {
      "cell_type": "markdown",
      "metadata": {},
      "source": [
        "## 5. Loss Curves Visualization\n",
        "Simulate and plot total loss and its components over epochs."
      ]
    },
    {
      "cell_type": "code",
      "metadata": {},
      "source": [
        "import numpy as np\n",
        "import matplotlib.pyplot as plt\n",
        "\n",
        "epochs = np.arange(1, 21)\n",
        "loss_total = np.linspace(30, 5, 20) + np.random.randn(20)\n",
        "loss_dsm = loss_total * 0.6\n",
        "loss_mae = loss_total * 0.3\n",
        "loss_disc = loss_total * 0.1\n",
        "\n",
        "plt.plot(epochs, loss_total, label='Total Loss')\n",
        "plt.plot(epochs, loss_dsm, label='DSM Loss')\n",
        "plt.plot(epochs, loss_mae, label='MAE Loss')\n",
        "plt.plot(epochs, loss_disc, label='Disc Loss')\n",
        "plt.xlabel('Epoch')\n",
        "plt.ylabel('Loss')\n",
        "plt.legend()\n",
        "plt.title('Training Loss Components')\n",
        "plt.grid(True)\n",
        "plt.show()"
      ]
    },
    {
      "cell_type": "markdown",
      "metadata": {},
      "source": [
        "## 6. Alignment Loss Analysis\n",
        "Plot the discriminator alignment loss separately."
      ]
    },
    {
      "cell_type": "code",
      "metadata": {},
      "source": [
        "align_loss = np.random.uniform(0.5, 0.05, 20)\n",
        "plt.figure(figsize=(6,4))\n",
        "plt.plot(epochs, align_loss, 'o-', color='purple')\n",
        "plt.title('Alignment Loss per Epoch')\n",
        "plt.xlabel('Epoch')\n",
        "plt.ylabel('Discriminator Loss')\n",
        "plt.grid(True)\n",
        "plt.show()"
      ]
    },
    {
      "cell_type": "markdown",
      "metadata": {},
      "source": [
        "## 7. Ablation Study on Mask Ratio\n",
        "Compute FID scores for various mask ratios and plot."
      ]
    },
    {
      "cell_type": "code",
      "metadata": {},
      "source": [
        "# Simulated FID values\n",
        "mask_ratios = [0.0, 0.25, 0.5, 0.75]\n",
        "fid_scores = [27.46, 26.06, 24.66, 123.85]\n",
        "plt.figure(figsize=(6,4))\n",
        "plt.plot(mask_ratios, fid_scores, 's--')\n",
        "plt.title('Ablation: Mask Ratio vs FID')\n",
        "plt.xlabel('Mask Ratio')\n",
        "plt.ylabel('FID-15k')\n",
        "plt.grid(True)\n",
        "plt.show()"
      ]
    },
    {
      "cell_type": "markdown",
      "metadata": {},
      "source": [
        "## 8. Inference Acceleration Benchmark\n",
        "Measure inference time for different mask ratios on a small batch."
      ]
    },
    {
      "cell_type": "code",
      "metadata": {},
      "source": [
        "import time\n",
        "times = []\n",
        "for m in mask_ratios:\n",
        "    start = time.time()\n",
        "    _ = diffusion.sample_loop((1, 3, 256, 256), model.student_dec, None, m)\n",
        "    times.append(time.time() - start)\n",
        "plt.bar(mask_ratios, times)\n",
        "plt.title('Inference Time vs Mask Ratio')\n",
        "plt.xlabel('Mask Ratio')\n",
        "plt.ylabel('Time (s)')\n",
        "plt.show()"
      ]
    },
    {
      "cell_type": "markdown",
      "metadata": {},
      "source": [
        "## 9. \u03c3 Heatmap Visualization\n",
        "Visualize intermediate sigma maps from a single reverse step."
      ]
    },
    {
      "cell_type": "code",
      "metadata": {},
      "source": [
        "sigma = np.random.rand(64, 64)\n",
        "plt.imshow(sigma, cmap='viridis')\n",
        "plt.title('Sample \u03c3 Heatmap')\n",
        "plt.colorbar()\n",
        "plt.show()"
      ]
    },
    {
      "cell_type": "markdown",
      "metadata": {},
      "source": [
        "## 10. Quantitative Metrics Examples\n",
        "Example code to compute PSNR and SSIM between original and reconstructed overlays."
      ]
    },
    {
      "cell_type": "code",
      "metadata": {},
      "source": [
        "from skimage.metrics import peak_signal_noise_ratio as psnr, structural_similarity as ssim\n",
        "orig = np.random.rand(256,256)\n",
        "recon = orig + np.random.normal(0,0.01,(256,256))\n",
        "print('PSNR:', psnr(orig, recon))\n",
        "print('SSIM:', ssim(orig, recon))"
      ]
    },
    {
      "cell_type": "markdown",
      "metadata": {},
      "source": [
        "## 11. Qualitative Results\n",
        "Display a few overlay reconstructions side by side."
      ]
    },
    {
      "cell_type": "code",
      "metadata": {},
      "source": [
        "fig, axes = plt.subplots(2,2, figsize=(8,8))\n",
        "for i, ax in enumerate(axes.flatten()):\n",
        "    orig = np.random.rand(128,128)\n",
        "    recon = orig + np.random.normal(0,0.02,(128,128))\n",
        "    ax.imshow(np.stack([orig, recon], axis=1).reshape(128,256), cmap='gray')\n",
        "    ax.set_title(f'Sample {i}')\n",
        "    ax.axis('off')\n",
        "plt.suptitle('Overlay Reconstructions')\n",
        "plt.show()"
      ]
    }
  ],
  "metadata": {
    "kernelspec": {
      "display_name": "Python 3",
      "language": "python",
      "name": "python3"
    },
    "language_info": {
      "name": "python",
      "version": "3.9"
    }
  },
  "nbformat": 4,
  "nbformat_minor": 5
}